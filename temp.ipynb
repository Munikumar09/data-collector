{
 "cells": [
  {
   "cell_type": "code",
   "execution_count": null,
   "metadata": {},
   "outputs": [],
   "source": [
    "from app.audio_processor import AudioProcessor\n",
    "from app.data_retrival import DataRetrieval\n",
    "from app.data_validator import DataValidator\n",
    "from IPython.display import Audio\n",
    "from pathlib import Path\n",
    "import json\n",
    "from tqdm import tqdm"
   ]
  },
  {
   "cell_type": "code",
   "execution_count": null,
   "metadata": {},
   "outputs": [],
   "source": [
    "audio_processor=AudioProcessor()\n",
    "data_retrieval=DataRetrieval()\n",
    "data_validator=DataValidator()"
   ]
  },
  {
   "cell_type": "code",
   "execution_count": null,
   "metadata": {},
   "outputs": [],
   "source": [
    "name=\"DJNsknmKrwM\""
   ]
  },
  {
   "cell_type": "code",
   "execution_count": null,
   "metadata": {},
   "outputs": [],
   "source": [
    "all_audio=list(Path(f\"/home/munikumar-17774/Desktop/data/data/{name}\").glob(\"*.mp3\"))"
   ]
  },
  {
   "cell_type": "code",
   "execution_count": null,
   "metadata": {},
   "outputs": [],
   "source": [
    "with open(f\"/home/munikumar-17774/Desktop/data/data/{name}/transcript.json\",\"r\") as f:\n",
    "    transcript=json.load(f)"
   ]
  },
  {
   "cell_type": "code",
   "execution_count": null,
   "metadata": {},
   "outputs": [],
   "source": [
    "transcript=list(transcript.items())"
   ]
  },
  {
   "cell_type": "code",
   "execution_count": null,
   "metadata": {},
   "outputs": [],
   "source": [
    "i=1"
   ]
  },
  {
   "cell_type": "code",
   "execution_count": null,
   "metadata": {},
   "outputs": [],
   "source": [
    "transcript[i]"
   ]
  },
  {
   "cell_type": "code",
   "execution_count": null,
   "metadata": {},
   "outputs": [],
   "source": [
    "print(all_audio[i].name)\n",
    "Audio(all_audio[i])"
   ]
  },
  {
   "cell_type": "code",
   "execution_count": null,
   "metadata": {},
   "outputs": [],
   "source": [
    "urls= data_retrieval.get_video_urls_with_query('cricket in \"hindi\"',1)"
   ]
  },
  {
   "cell_type": "code",
   "execution_count": null,
   "metadata": {},
   "outputs": [],
   "source": [
    "len(urls)"
   ]
  },
  {
   "cell_type": "code",
   "execution_count": null,
   "metadata": {},
   "outputs": [],
   "source": [
    "with open(\"cricket_in_hindi_t.txt\",\"w\") as f:\n",
    "    f.write(\"\\n\".join(urls))"
   ]
  },
  {
   "cell_type": "code",
   "execution_count": null,
   "metadata": {},
   "outputs": [],
   "source": [
    "video_transcript={}"
   ]
  },
  {
   "cell_type": "code",
   "execution_count": null,
   "metadata": {},
   "outputs": [],
   "source": [
    "for url in tqdm(set(urls)):\n",
    "    transcript=data_retrieval.get_video_transcript(url)\n",
    "    if transcript:\n",
    "        video_transcript[url]=transcript"
   ]
  },
  {
   "cell_type": "code",
   "execution_count": null,
   "metadata": {},
   "outputs": [],
   "source": [
    "len(video_transcript)"
   ]
  },
  {
   "cell_type": "code",
   "execution_count": null,
   "metadata": {},
   "outputs": [],
   "source": [
    "valid_transcription={}"
   ]
  },
  {
   "cell_type": "code",
   "execution_count": null,
   "metadata": {},
   "outputs": [],
   "source": [
    "for video_url,transcription in tqdm(video_transcript.items()):\n",
    "    # validate_transcription(video_url,transcription)\n",
    "    # print(len(transcription))\n",
    "    # print(len(transcription[0][\"text\"].strip()))\n",
    "    clean_transcript=data_validator.validate_transcription(transcription)\n",
    "    if clean_transcript:\n",
    "        # download_and_split_audio(video_url,clean_transcript)\n",
    "        valid_transcription[video_url]=clean_transcript"
   ]
  },
  {
   "cell_type": "code",
   "execution_count": null,
   "metadata": {},
   "outputs": [],
   "source": [
    "len(valid_transcription)"
   ]
  },
  {
   "cell_type": "code",
   "execution_count": null,
   "metadata": {},
   "outputs": [],
   "source": [
    "with open(\"transt.json\",'w') as f:\n",
    "    json.dump(valid_transcription,f,ensure_ascii=False)"
   ]
  },
  {
   "cell_type": "code",
   "execution_count": null,
   "metadata": {},
   "outputs": [],
   "source": [
    "root_path=Path(\"/home/munikumar-17774/Desktop/data/collect_data/audio\")"
   ]
  },
  {
   "cell_type": "code",
   "execution_count": null,
   "metadata": {},
   "outputs": [],
   "source": [
    "for url,transcription in tqdm(valid_transcription.items()):\n",
    "    audio_processor.download_audio(url,root_path)\n",
    "    "
   ]
  },
  {
   "cell_type": "code",
   "execution_count": 37,
   "metadata": {},
   "outputs": [],
   "source": [
    "trans_data=valid_transcription['https://www.youtube.com/watch?v=zhtmDW7A2Yg']"
   ]
  },
  {
   "cell_type": "code",
   "execution_count": 39,
   "metadata": {},
   "outputs": [],
   "source": [
    "audio_processor.split_audio_and_save_transcription(\"/home/munikumar-17774/Desktop/data/collect_data/audio/zhtmDW7A2Yg.mp3\",trans_data)"
   ]
  },
  {
   "cell_type": "code",
   "execution_count": 38,
   "metadata": {},
   "outputs": [],
   "source": [
    "audio_dir=Path(\"/home/munikumar-17774/Desktop/data/collect_data/audio/zhtmDW7A2Yg\")"
   ]
  },
  {
   "cell_type": "code",
   "execution_count": 40,
   "metadata": {},
   "outputs": [],
   "source": [
    "transcript_file=audio_dir/\"transcript.json\""
   ]
  },
  {
   "cell_type": "code",
   "execution_count": 41,
   "metadata": {},
   "outputs": [],
   "source": [
    "with open(transcript_file,\"r\") as f:\n",
    "    transcript=json.load(f)"
   ]
  },
  {
   "cell_type": "code",
   "execution_count": 42,
   "metadata": {},
   "outputs": [],
   "source": [
    "final_valid=[]"
   ]
  },
  {
   "cell_type": "code",
   "execution_count": 43,
   "metadata": {},
   "outputs": [],
   "source": [
    "from app.nemo import NemoASR"
   ]
  },
  {
   "cell_type": "code",
   "execution_count": 44,
   "metadata": {},
   "outputs": [
    {
     "name": "stdout",
     "output_type": "stream",
     "text": [
      "[NeMo I 2023-11-18 16:35:48 cloud:58] Found existing object /home/munikumar-17774/.cache/torch/NeMo/NeMo_1.19.1/stt_hi_conformer_ctc_medium/be04ad0a850be76a1a79c17945fcc8cb/stt_hi_conformer_ctc_medium.nemo.\n",
      "[NeMo I 2023-11-18 16:35:48 cloud:64] Re-using file from: /home/munikumar-17774/.cache/torch/NeMo/NeMo_1.19.1/stt_hi_conformer_ctc_medium/be04ad0a850be76a1a79c17945fcc8cb/stt_hi_conformer_ctc_medium.nemo\n",
      "[NeMo I 2023-11-18 16:35:48 common:913] Instantiating model from pre-trained checkpoint\n",
      "[NeMo I 2023-11-18 16:35:48 mixins:170] Tokenizer SentencePieceTokenizer initialized with 128 tokens\n"
     ]
    },
    {
     "name": "stderr",
     "output_type": "stream",
     "text": [
      "[NeMo W 2023-11-18 16:35:48 modelPT:161] If you intend to do training or fine-tuning, please call the ModelPT.setup_training_data() method and provide a valid configuration file to setup the train data loader.\n",
      "    Train config : \n",
      "    manifest_filepath: /code/03_manifest/ulca-train-v3.json\n",
      "    sample_rate: 16000\n",
      "    batch_size: 64\n",
      "    shuffle: true\n",
      "    num_workers: 8\n",
      "    pin_memory: true\n",
      "    use_start_end_token: false\n",
      "    trim_silence: false\n",
      "    max_duration: 16.7\n",
      "    min_duration: 0.1\n",
      "    \n",
      "[NeMo W 2023-11-18 16:35:48 modelPT:168] If you intend to do validation, please call the ModelPT.setup_validation_data() or ModelPT.setup_multiple_validation_data() method and provide a valid configuration file to setup the validation data loader(s). \n",
      "    Validation config : \n",
      "    manifest_filepath: /code/manifest/ulca-eval.json\n",
      "    sample_rate: 16000\n",
      "    batch_size: 4\n",
      "    shuffle: false\n",
      "    num_workers: 8\n",
      "    pin_memory: true\n",
      "    use_start_end_token: false\n",
      "    \n",
      "[NeMo W 2023-11-18 16:35:48 modelPT:174] Please call the ModelPT.setup_test_data() or ModelPT.setup_multiple_test_data() method and provide a valid configuration file to setup the test data loader(s).\n",
      "    Test config : \n",
      "    manifest_filepath: /code/manifest/ulca-eval.json\n",
      "    sample_rate: 16000\n",
      "    batch_size: 4\n",
      "    shuffle: false\n",
      "    num_workers: 8\n",
      "    pin_memory: true\n",
      "    use_start_end_token: false\n",
      "    \n"
     ]
    },
    {
     "name": "stdout",
     "output_type": "stream",
     "text": [
      "[NeMo I 2023-11-18 16:35:48 features:291] PADDING: 0\n",
      "[NeMo I 2023-11-18 16:35:49 save_restore_connector:249] Model EncDecCTCModelBPE was successfully restored from /home/munikumar-17774/.cache/torch/NeMo/NeMo_1.19.1/stt_hi_conformer_ctc_medium/be04ad0a850be76a1a79c17945fcc8cb/stt_hi_conformer_ctc_medium.nemo.\n"
     ]
    }
   ],
   "source": [
    "asr=NemoASR()"
   ]
  },
  {
   "cell_type": "code",
   "execution_count": 45,
   "metadata": {},
   "outputs": [],
   "source": [
    "from app.models import WhisperModel"
   ]
  },
  {
   "cell_type": "code",
   "execution_count": 46,
   "metadata": {},
   "outputs": [],
   "source": [
    "whisper_model=WhisperModel()"
   ]
  },
  {
   "cell_type": "code",
   "execution_count": 47,
   "metadata": {},
   "outputs": [],
   "source": [
    "final_trans={}"
   ]
  },
  {
   "cell_type": "code",
   "execution_count": 48,
   "metadata": {},
   "outputs": [
    {
     "name": "stderr",
     "output_type": "stream",
     "text": [
      "  0%|          | 0/12 [00:00<?, ?it/s]"
     ]
    },
    {
     "data": {
      "application/vnd.jupyter.widget-view+json": {
       "model_id": "bba6010b6281490ab251b4682bd6e955",
       "version_major": 2,
       "version_minor": 0
      },
      "text/plain": [
       "Transcribing:   0%|          | 0/1 [00:00<?, ?it/s]"
      ]
     },
     "metadata": {},
     "output_type": "display_data"
    },
    {
     "name": "stderr",
     "output_type": "stream",
     "text": [
      "  8%|▊         | 1/12 [00:02<00:27,  2.54s/it]"
     ]
    },
    {
     "name": "stdout",
     "output_type": "stream",
     "text": [
      "['वन क्रिकेट का पिता किसे माना जाता है हॉबर्ट जेम्स विलियम्स टू पहला टेस्ट मैच कब और किसके बीच खेला गया'] वन क्रिकेट का पिता किस माना जाता है होबर्ट जेम्स विलियम्स तू पहले टेस्ट मैच कब और किसके बीच खेल\n"
     ]
    },
    {
     "data": {
      "application/vnd.jupyter.widget-view+json": {
       "model_id": "ad8c69724fa04f63a1e8d8c4421e1653",
       "version_major": 2,
       "version_minor": 0
      },
      "text/plain": [
       "Transcribing:   0%|          | 0/1 [00:00<?, ?it/s]"
      ]
     },
     "metadata": {},
     "output_type": "display_data"
    },
    {
     "name": "stderr",
     "output_type": "stream",
     "text": [
      " 17%|█▋        | 2/12 [00:05<00:25,  2.56s/it]"
     ]
    },
    {
     "name": "stdout",
     "output_type": "stream",
     "text": [
      "['था पंद्रह मार्च अ्ठारह सौ सौ सतहतन को इंग्लैंड और स्ट्रेलिया के बीच थ्री वनडे इंटरनेशनल मैच कितने ओवरस का होता है'] गया था 15 मार्च 1877 को इंग्लैंड और ऑस्ट्रेलिया के बीच थ्री वनडे इंटरनेशनल मैच कितने ओवर का होता\n"
     ]
    },
    {
     "data": {
      "application/vnd.jupyter.widget-view+json": {
       "model_id": "d8f6251e12d14df39225913ee6e70109",
       "version_major": 2,
       "version_minor": 0
      },
      "text/plain": [
       "Transcribing:   0%|          | 0/1 [00:00<?, ?it/s]"
      ]
     },
     "metadata": {},
     "output_type": "display_data"
    },
    {
     "name": "stderr",
     "output_type": "stream",
     "text": [
      " 25%|██▌       | 3/12 [00:07<00:23,  2.62s/it]"
     ]
    },
    {
     "name": "stdout",
     "output_type": "stream",
     "text": [
      "['है पिफ्टी ओवर्स का शर वनडे क्रिकेट का पहला विश्व कप किस वर्ष में हुआ था उन्नीस सौ पचहत्तर में फाइव टेस्ट क्रिकेट'] है 50 ओवर का शोर वनडे क्रिकेट का पहले विश्व कप किस वर्ष में हुआ था 1975 में फाइव टेस्ट क्रिकेट\n"
     ]
    },
    {
     "data": {
      "application/vnd.jupyter.widget-view+json": {
       "model_id": "fceeca43ba5a478a9aeef29a8cdc4935",
       "version_major": 2,
       "version_minor": 0
      },
      "text/plain": [
       "Transcribing:   0%|          | 0/1 [00:00<?, ?it/s]"
      ]
     },
     "metadata": {},
     "output_type": "display_data"
    },
    {
     "name": "stderr",
     "output_type": "stream",
     "text": [
      " 33%|███▎      | 4/12 [00:10<00:21,  2.65s/it]"
     ]
    },
    {
     "name": "stdout",
     "output_type": "stream",
     "text": [
      "['में बैट्स मन की शतकीय पारी कितने रनों की होती है सौ रनों की सिक्स वनडे क्रिकेट में अवार्ड'] में बैट्समैन की शक यह परी कितने रनों की होती है 100 रनों की सेक्स वनडे क्रिकेट में अवार्ड\n"
     ]
    },
    {
     "data": {
      "application/vnd.jupyter.widget-view+json": {
       "model_id": "abaaca4ae8c8490e8fc142fe8592b4d5",
       "version_major": 2,
       "version_minor": 0
      },
      "text/plain": [
       "Transcribing:   0%|          | 0/1 [00:00<?, ?it/s]"
      ]
     },
     "metadata": {},
     "output_type": "display_data"
    },
    {
     "name": "stderr",
     "output_type": "stream",
     "text": [
      " 42%|████▏     | 5/12 [00:13<00:18,  2.64s/it]"
     ]
    },
    {
     "name": "stdout",
     "output_type": "stream",
     "text": [
      "['कप किसके नाम पर दिया जाता है सचिन तेंदुलकर के नाम पर सचिन तेंदुलकर से संबंधित सेवन विश्व कप टीम इंडिया'] कप किसके नाम पर दिया जाता है सचिन तेंदुलकर के नाम पर सचिन तेंदुलकर से संबंधित 7 विश्व कप टीम इंडिया\n"
     ]
    },
    {
     "data": {
      "application/vnd.jupyter.widget-view+json": {
       "model_id": "1a63ad4b73ec4080a8608c7254ed4d98",
       "version_major": 2,
       "version_minor": 0
      },
      "text/plain": [
       "Transcribing:   0%|          | 0/1 [00:00<?, ?it/s]"
      ]
     },
     "metadata": {},
     "output_type": "display_data"
    },
    {
     "name": "stderr",
     "output_type": "stream",
     "text": [
      " 50%|█████     | 6/12 [00:15<00:15,  2.66s/it]"
     ]
    },
    {
     "name": "stdout",
     "output_type": "stream",
     "text": [
      "['के कितनी बार विजेता रही है दो बार उन्नीस सौ ति्रीित्रेन और दो हज़ार ग्यारह आठ वनडे इंटरनेशनल में दस विकेट लेने वाले भारतीयों'] के कितने बार विजेता रही है दो बार 1953 और 2011 8 वनडे इंटरनेशनल में 10 विकेट लेने वाले भारतीय\n"
     ]
    },
    {
     "data": {
      "application/vnd.jupyter.widget-view+json": {
       "model_id": "19720822239349b29fa8e3834ec461f2",
       "version_major": 2,
       "version_minor": 0
      },
      "text/plain": [
       "Transcribing:   0%|          | 0/1 [00:00<?, ?it/s]"
      ]
     },
     "metadata": {},
     "output_type": "display_data"
    },
    {
     "name": "stderr",
     "output_type": "stream",
     "text": [
      " 58%|█████▊    | 7/12 [00:18<00:12,  2.60s/it]"
     ]
    },
    {
     "name": "stdout",
     "output_type": "stream",
     "text": [
      "['गेंदबाज कौन हैं अनिल कुंबले नाइन टेस्ट क्रिकेट में दोहरी शतक के रिकॉर्ड होल्डर बैडसमैन कौन है'] गेंदबाज कौन है अनिल कुंबले नाइन टेस्ट क्रिकेट में दोहरी शक की रिकॉर्ड होल्डर बैट्समैन कौन है\n"
     ]
    },
    {
     "data": {
      "application/vnd.jupyter.widget-view+json": {
       "model_id": "7446f0bd81da4c0eb41dc0f349358e2d",
       "version_major": 2,
       "version_minor": 0
      },
      "text/plain": [
       "Transcribing:   0%|          | 0/1 [00:00<?, ?it/s]"
      ]
     },
     "metadata": {},
     "output_type": "display_data"
    },
    {
     "name": "stderr",
     "output_type": "stream",
     "text": [
      " 67%|██████▋   | 8/12 [00:20<00:10,  2.54s/it]"
     ]
    },
    {
     "name": "stdout",
     "output_type": "stream",
     "text": [
      "['विव्यान रिचर्ड और स्टीव् समेथ इकतीस शतक दस वनडे क्रिकेट में सबसे ज्यादा रन बनाने वाले खिलाड़'] विवियन रिचर्ड्स और स्टीव स्मिथ 31 शक 10 वनडे क्रिकेट में सबसे ज्यादा रन बनाने वाले खिलाड़ी\n"
     ]
    },
    {
     "data": {
      "application/vnd.jupyter.widget-view+json": {
       "model_id": "38bd6d346b3e45fbbe0fe5a1137a84a4",
       "version_major": 2,
       "version_minor": 0
      },
      "text/plain": [
       "Transcribing:   0%|          | 0/1 [00:00<?, ?it/s]"
      ]
     },
     "metadata": {},
     "output_type": "display_data"
    },
    {
     "name": "stderr",
     "output_type": "stream",
     "text": [
      " 75%|███████▌  | 9/12 [00:23<00:07,  2.53s/it]"
     ]
    },
    {
     "name": "stdout",
     "output_type": "stream",
     "text": [
      "['बड़ी कौन है सचिन तेंदुलकर अठारह सतूची चार सौ छब्बीस रन इलेवन वनडे इंटरनेशनल में सबसे ज्यादा विकेट लेने वाले गेंदबाज कौन हैं'] कौन है सचिन तेंदुलकर 1826 रन 11 वनडे इंटरनेशनल में सबसे ज्यादा विकेट लेने वाले गेंदबाज कौन हैं\n"
     ]
    },
    {
     "data": {
      "application/vnd.jupyter.widget-view+json": {
       "model_id": "5ffab5365b5c4a70b8dda16b1d400f14",
       "version_major": 2,
       "version_minor": 0
      },
      "text/plain": [
       "Transcribing:   0%|          | 0/1 [00:00<?, ?it/s]"
      ]
     },
     "metadata": {},
     "output_type": "display_data"
    },
    {
     "name": "stderr",
     "output_type": "stream",
     "text": [
      " 83%|████████▎ | 10/12 [00:25<00:05,  2.50s/it]"
     ]
    },
    {
     "name": "stdout",
     "output_type": "stream",
     "text": [
      "['ट्वल क्रिकेट में लीग ऑफ नेशंस'] 12 क्रिकेट में लीग ऑफ नेशंस\n"
     ]
    },
    {
     "data": {
      "application/vnd.jupyter.widget-view+json": {
       "model_id": "10ef7409a83347cbbc77d5a804a6684c",
       "version_major": 2,
       "version_minor": 0
      },
      "text/plain": [
       "Transcribing:   0%|          | 0/1 [00:00<?, ?it/s]"
      ]
     },
     "metadata": {},
     "output_type": "display_data"
    },
    {
     "name": "stderr",
     "output_type": "stream",
     "text": [
      " 92%|█████████▏| 11/12 [00:28<00:02,  2.49s/it]"
     ]
    },
    {
     "name": "stdout",
     "output_type": "stream",
     "text": [
      "['क्या होता है वनडे इंटरनेशनल मैचों का एक तरह का टूर्नामेंट जिसमें कई देशों की टीमें एक'] क्या होता है वनडे इंटरनेशनल माचो का एक तरह का टूर्नामेंट जिसमें कई देश के टाइम\n"
     ]
    },
    {
     "data": {
      "application/vnd.jupyter.widget-view+json": {
       "model_id": "5906b5933025474baac4d9abc7e68499",
       "version_major": 2,
       "version_minor": 0
      },
      "text/plain": [
       "Transcribing:   0%|          | 0/1 [00:00<?, ?it/s]"
      ]
     },
     "metadata": {},
     "output_type": "display_data"
    },
    {
     "name": "stderr",
     "output_type": "stream",
     "text": [
      "100%|██████████| 12/12 [00:30<00:00,  2.54s/it]"
     ]
    },
    {
     "name": "stdout",
     "output_type": "stream",
     "text": [
      "['दूसरे के साथ प्रतिस्पर्धा करती हैं थर्टीन टेस्ट क्रिकेट में एक ओवर में कितनी गेंदें डाली जाती'] एक दूसरे के साथ प्रतिस्पर्धा करती हैं 13 टेस्ट क्रिकेट में एक ओवर में कितनी गंदे डाली जाति है\n"
     ]
    },
    {
     "name": "stderr",
     "output_type": "stream",
     "text": [
      "\n"
     ]
    }
   ],
   "source": [
    "for audio_name,transcription in tqdm(transcript.items()):\n",
    "    audio_path=audio_dir/audio_name\n",
    "    language=whisper_model.detect_language(str(audio_path))\n",
    "    if language=='hi':\n",
    "        text=asr.transcribe_audio(str(audio_path))[0]\n",
    "        print(text,transcription)\n",
    "        final_trans[audio_name]={\"normal\":transcription,\"nemo\":text}"
   ]
  },
  {
   "cell_type": "code",
   "execution_count": 49,
   "metadata": {},
   "outputs": [],
   "source": [
    "with open(\"similarity_1.json\",\"w\") as f:\n",
    "    json.dump(final_trans,f,ensure_ascii=False)"
   ]
  },
  {
   "cell_type": "code",
   "execution_count": null,
   "metadata": {},
   "outputs": [],
   "source": []
  }
 ],
 "metadata": {
  "kernelspec": {
   "display_name": "yt",
   "language": "python",
   "name": "python3"
  },
  "language_info": {
   "codemirror_mode": {
    "name": "ipython",
    "version": 3
   },
   "file_extension": ".py",
   "mimetype": "text/x-python",
   "name": "python",
   "nbconvert_exporter": "python",
   "pygments_lexer": "ipython3",
   "version": "3.9.18"
  }
 },
 "nbformat": 4,
 "nbformat_minor": 2
}
